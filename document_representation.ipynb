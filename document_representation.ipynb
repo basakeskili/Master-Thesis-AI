{
 "cells": [
  {
   "cell_type": "code",
   "execution_count": 1,
   "metadata": {
    "scrolled": true
   },
   "outputs": [
    {
     "name": "stderr",
     "output_type": "stream",
     "text": [
      "C:\\Users\\b.eskili\\AppData\\Local\\Continuum\\anaconda3\\lib\\site-packages\\PIL\\Image.py:82: RuntimeWarning: The _imaging extension was built for another version of Pillow or PIL:\n",
      "Core version: 5.3.0\n",
      "Pillow version: 5.1.0\n",
      "  warnings.warn(str(v), RuntimeWarning)\n"
     ]
    }
   ],
   "source": [
    "import pandas as pd\n",
    "from sklearn.feature_extraction.text import TfidfVectorizer\n",
    "import nltk\n",
    "from nltk.stem import LancasterStemmer, WordNetLemmatizer\n",
    "from sklearn import model_selection, preprocessing, linear_model, naive_bayes, metrics, svm\n",
    "from sklearn.feature_extraction.text import TfidfVectorizer, CountVectorizer\n",
    "from sklearn import decomposition, ensemble\n",
    "import numpy as np\n",
    "import xgboost, numpy, textblob, string"
   ]
  },
  {
   "cell_type": "markdown",
   "metadata": {},
   "source": [
    "## Read data"
   ]
  },
  {
   "cell_type": "code",
   "execution_count": 4,
   "metadata": {},
   "outputs": [],
   "source": [
    "data_en = pd.read_csv(\"data/dataset_en_processed.csv\")\n",
    "data_nl = pd.read_csv(\"data/dataset_nl_processed.csv\") "
   ]
  },
  {
   "cell_type": "code",
   "execution_count": 5,
   "metadata": {},
   "outputs": [],
   "source": [
    "data = data_en.append(data_nl, ignore_index=True)"
   ]
  },
  {
   "cell_type": "code",
   "execution_count": 6,
   "metadata": {},
   "outputs": [
    {
     "data": {
      "text/plain": [
       "861"
      ]
     },
     "execution_count": 6,
     "metadata": {},
     "output_type": "execute_result"
    }
   ],
   "source": [
    "len(data)"
   ]
  },
  {
   "cell_type": "markdown",
   "metadata": {},
   "source": [
    "### Filter unknown"
   ]
  },
  {
   "cell_type": "code",
   "execution_count": 7,
   "metadata": {},
   "outputs": [],
   "source": [
    "data = data[data.cluster != \"unknown\"]"
   ]
  },
  {
   "cell_type": "code",
   "execution_count": 157,
   "metadata": {},
   "outputs": [],
   "source": [
    "data = data[data.cluster != \"food \"]"
   ]
  },
  {
   "cell_type": "markdown",
   "metadata": {},
   "source": [
    "### Filter inadequate data"
   ]
  },
  {
   "cell_type": "code",
   "execution_count": 8,
   "metadata": {},
   "outputs": [],
   "source": [
    "def inadequate_data(content):\n",
    "    if len(str(content).split(\" \")) > 20:\n",
    "        return content\n",
    "    else:\n",
    "        return \"None\""
   ]
  },
  {
   "cell_type": "code",
   "execution_count": 9,
   "metadata": {},
   "outputs": [],
   "source": [
    "data[\"content\"] = data[\"content\"].apply(inadequate_data)"
   ]
  },
  {
   "cell_type": "code",
   "execution_count": 10,
   "metadata": {},
   "outputs": [],
   "source": [
    "data = data[data.content != \"None\"]"
   ]
  },
  {
   "cell_type": "code",
   "execution_count": 11,
   "metadata": {},
   "outputs": [],
   "source": [
    "data['index1'] = data.index"
   ]
  },
  {
   "cell_type": "code",
   "execution_count": 12,
   "metadata": {},
   "outputs": [
    {
     "data": {
      "text/plain": [
       "801"
      ]
     },
     "execution_count": 12,
     "metadata": {},
     "output_type": "execute_result"
    }
   ],
   "source": [
    "len(data)"
   ]
  },
  {
   "cell_type": "code",
   "execution_count": null,
   "metadata": {},
   "outputs": [],
   "source": []
  },
  {
   "cell_type": "markdown",
   "metadata": {},
   "source": [
    "## Split into train & test"
   ]
  },
  {
   "cell_type": "code",
   "execution_count": 13,
   "metadata": {},
   "outputs": [],
   "source": [
    "train_x_idx, valid_x_idx, train_y, valid_y = model_selection.train_test_split(data['index1'], data['cluster'])"
   ]
  },
  {
   "cell_type": "code",
   "execution_count": 14,
   "metadata": {},
   "outputs": [],
   "source": [
    "train_x = data.content[train_x_idx]\n",
    "valid_x = data.content[valid_x_idx]"
   ]
  },
  {
   "cell_type": "markdown",
   "metadata": {},
   "source": [
    "### Create count vectorizer"
   ]
  },
  {
   "cell_type": "code",
   "execution_count": 15,
   "metadata": {},
   "outputs": [],
   "source": [
    "# create a count vectorizer object \n",
    "count_vect = CountVectorizer(analyzer='word', token_pattern=r'\\w{1,}')\n",
    "count_vect.fit(data['content'])\n",
    "\n",
    "# transform the training and validation data using count vectorizer object\n",
    "xtrain_count =  count_vect.transform(train_x)\n",
    "xvalid_count =  count_vect.transform(valid_x)"
   ]
  },
  {
   "cell_type": "markdown",
   "metadata": {},
   "source": [
    "### Get tfidf & ngrams"
   ]
  },
  {
   "cell_type": "code",
   "execution_count": 16,
   "metadata": {},
   "outputs": [],
   "source": [
    "# word level tf-idf\n",
    "tfidf_vect = TfidfVectorizer(analyzer='word', token_pattern=r'\\w{1,}', max_features=5000)\n",
    "tfidf_vect.fit(data['content'])\n",
    "xtrain_tfidf =  tfidf_vect.transform(train_x)\n",
    "xvalid_tfidf =  tfidf_vect.transform(valid_x)\n",
    "\n",
    "# ngram level tf-idf \n",
    "tfidf_vect_ngram = TfidfVectorizer(analyzer='word', token_pattern=r'\\w{1,}', ngram_range=(1,2), max_features=5000)\n",
    "tfidf_vect_ngram.fit(data['content'])\n",
    "xtrain_tfidf_ngram =  tfidf_vect_ngram.transform(train_x)\n",
    "xvalid_tfidf_ngram =  tfidf_vect_ngram.transform(valid_x)"
   ]
  },
  {
   "cell_type": "markdown",
   "metadata": {},
   "source": [
    "### train function"
   ]
  },
  {
   "cell_type": "code",
   "execution_count": 17,
   "metadata": {},
   "outputs": [],
   "source": [
    "def train_model(classifier, feature_vector_train, label, feature_vector_valid, is_neural_net=False):\n",
    "    # fit the training dataset on the classifier\n",
    "    classifier.fit(feature_vector_train, label)\n",
    "    \n",
    "    # predict the labels on validation dataset\n",
    "    predictions = classifier.predict(feature_vector_valid)\n",
    "    \n",
    "    if is_neural_net:\n",
    "        predictions = predictions.argmax(axis=-1)\n",
    "    print(metrics.accuracy_score(predictions, valid_y))\n",
    "    return predictions\n"
   ]
  },
  {
   "cell_type": "code",
   "execution_count": 18,
   "metadata": {},
   "outputs": [
    {
     "name": "stderr",
     "output_type": "stream",
     "text": [
      "C:\\Users\\b.eskili\\AppData\\Local\\Continuum\\anaconda3\\lib\\site-packages\\sklearn\\linear_model\\logistic.py:433: FutureWarning: Default solver will be changed to 'lbfgs' in 0.22. Specify a solver to silence this warning.\n",
      "  FutureWarning)\n",
      "C:\\Users\\b.eskili\\AppData\\Local\\Continuum\\anaconda3\\lib\\site-packages\\sklearn\\linear_model\\logistic.py:460: FutureWarning: Default multi_class will be changed to 'auto' in 0.22. Specify the multi_class option to silence this warning.\n",
      "  \"this warning.\", FutureWarning)\n"
     ]
    },
    {
     "name": "stdout",
     "output_type": "stream",
     "text": [
      "0.7114427860696517\n"
     ]
    }
   ],
   "source": [
    "# Linear Classifier on Ngram Level TF IDF Vectors\n",
    "predictions = train_model(linear_model.LogisticRegression(), xtrain_tfidf_ngram, train_y, xvalid_tfidf_ngram)\n"
   ]
  },
  {
   "cell_type": "code",
   "execution_count": 107,
   "metadata": {},
   "outputs": [
    {
     "name": "stderr",
     "output_type": "stream",
     "text": [
      "C:\\Users\\b.eskili\\AppData\\Local\\Continuum\\anaconda3\\lib\\site-packages\\sklearn\\ensemble\\forest.py:246: FutureWarning: The default value of n_estimators will change from 10 in version 0.20 to 100 in 0.22.\n",
      "  \"10 in version 0.20 to 100 in 0.22.\", FutureWarning)\n"
     ]
    },
    {
     "name": "stdout",
     "output_type": "stream",
     "text": [
      "0.595\n"
     ]
    }
   ],
   "source": [
    "# SVM on Ngram Level TF IDF Vectors\n",
    "accuracy = train_model(ensemble.RandomForestClassifier(), xtrain_count, train_y, xvalid_count)"
   ]
  },
  {
   "cell_type": "code",
   "execution_count": 114,
   "metadata": {},
   "outputs": [
    {
     "name": "stdout",
     "output_type": "stream",
     "text": [
      "0.615\n"
     ]
    },
    {
     "name": "stderr",
     "output_type": "stream",
     "text": [
      "C:\\Users\\b.eskili\\AppData\\Local\\Continuum\\anaconda3\\lib\\site-packages\\sklearn\\ensemble\\forest.py:246: FutureWarning: The default value of n_estimators will change from 10 in version 0.20 to 100 in 0.22.\n",
      "  \"10 in version 0.20 to 100 in 0.22.\", FutureWarning)\n"
     ]
    }
   ],
   "source": [
    "accuracy = train_model(ensemble.RandomForestClassifier(), xtrain_tfidf_ngram, train_y, xvalid_tfidf_ngram)"
   ]
  },
  {
   "cell_type": "code",
   "execution_count": 115,
   "metadata": {},
   "outputs": [
    {
     "name": "stdout",
     "output_type": "stream",
     "text": [
      "0.64\n",
      "0.59\n",
      "0.565\n"
     ]
    }
   ],
   "source": [
    "# Naive Bayes on Count Vectors\n",
    "accuracy = train_model(naive_bayes.MultinomialNB(), xtrain_count, train_y, xvalid_count)\n",
    "#print (\"NB, Count Vectors: \", accuracy)\n",
    "\n",
    "# Naive Bayes on Word Level TF IDF Vectors\n",
    "accuracy = train_model(naive_bayes.MultinomialNB(), xtrain_tfidf, train_y, xvalid_tfidf)\n",
    "#print(\"NB, WordLevel TF-IDF: \", accuracy)\n",
    "\n",
    "# Naive Bayes on Ngram Level TF IDF Vectors\n",
    "accuracy = train_model(naive_bayes.MultinomialNB(), xtrain_tfidf_ngram, train_y, xvalid_tfidf_ngram)\n",
    "#print(\"NB, N-Gram Vectors: \", accuracy)\n"
   ]
  },
  {
   "cell_type": "code",
   "execution_count": 116,
   "metadata": {},
   "outputs": [
    {
     "name": "stderr",
     "output_type": "stream",
     "text": [
      "C:\\Users\\b.eskili\\AppData\\Local\\Continuum\\anaconda3\\lib\\site-packages\\sklearn\\linear_model\\logistic.py:433: FutureWarning: Default solver will be changed to 'lbfgs' in 0.22. Specify a solver to silence this warning.\n",
      "  FutureWarning)\n",
      "C:\\Users\\b.eskili\\AppData\\Local\\Continuum\\anaconda3\\lib\\site-packages\\sklearn\\linear_model\\logistic.py:460: FutureWarning: Default multi_class will be changed to 'auto' in 0.22. Specify the multi_class option to silence this warning.\n",
      "  \"this warning.\", FutureWarning)\n",
      "C:\\Users\\b.eskili\\AppData\\Local\\Continuum\\anaconda3\\lib\\site-packages\\sklearn\\svm\\base.py:922: ConvergenceWarning: Liblinear failed to converge, increase the number of iterations.\n",
      "  \"the number of iterations.\", ConvergenceWarning)\n"
     ]
    },
    {
     "name": "stdout",
     "output_type": "stream",
     "text": [
      "0.715\n",
      "0.685\n",
      "0.66\n"
     ]
    }
   ],
   "source": [
    "# Linear Classifier on Count Vectors\n",
    "accuracy = train_model(linear_model.LogisticRegression(), xtrain_count, train_y, xvalid_count)\n",
    "#print(\"LR, Count Vectors: \", accuracy)\n",
    "\n",
    "# Linear Classifier on Word Level TF IDF Vectors\n",
    "accuracy = train_model(linear_model.LogisticRegression(), xtrain_tfidf, train_y, xvalid_tfidf)\n",
    "#print(\"LR, WordLevel TF-IDF: \", accuracy)\n",
    "\n",
    "# Linear Classifier on Ngram Level TF IDF Vectors\n",
    "accuracy = train_model(linear_model.LogisticRegression(), xtrain_tfidf_ngram, train_y, xvalid_tfidf_ngram)\n",
    "#print(\"LR, N-Gram Vectors: \", accuracy)\n",
    "\n"
   ]
  },
  {
   "cell_type": "code",
   "execution_count": 84,
   "metadata": {
    "scrolled": true
   },
   "outputs": [
    {
     "name": "stderr",
     "output_type": "stream",
     "text": [
      "C:\\Users\\b.eskili\\AppData\\Local\\Continuum\\anaconda3\\lib\\site-packages\\sklearn\\ensemble\\forest.py:246: FutureWarning: The default value of n_estimators will change from 10 in version 0.20 to 100 in 0.22.\n",
      "  \"10 in version 0.20 to 100 in 0.22.\", FutureWarning)\n"
     ]
    },
    {
     "name": "stdout",
     "output_type": "stream",
     "text": [
      "0.58\n",
      "0.645\n"
     ]
    },
    {
     "name": "stderr",
     "output_type": "stream",
     "text": [
      "C:\\Users\\b.eskili\\AppData\\Local\\Continuum\\anaconda3\\lib\\site-packages\\sklearn\\ensemble\\forest.py:246: FutureWarning: The default value of n_estimators will change from 10 in version 0.20 to 100 in 0.22.\n",
      "  \"10 in version 0.20 to 100 in 0.22.\", FutureWarning)\n"
     ]
    }
   ],
   "source": [
    "# RF on Count Vectors\n",
    "accuracy = train_model(ensemble.RandomForestClassifier(), xtrain_count, train_y, xvalid_count)\n",
    "#print(\"RF, Count Vectors: \", accuracy)\n",
    "\n",
    "# RF on Word Level TF IDF Vectors\n",
    "accuracy = train_model(ensemble.RandomForestClassifier(), xtrain_tfidf, train_y, xvalid_tfidf)\n",
    "#print(\"RF, WordLevel TF-IDF: \", accuracy)"
   ]
  },
  {
   "cell_type": "code",
   "execution_count": 85,
   "metadata": {},
   "outputs": [
    {
     "name": "stdout",
     "output_type": "stream",
     "text": [
      "0.665\n"
     ]
    }
   ],
   "source": [
    "# Extereme Gradient Boosting on Count Vectors\n",
    "prediction = train_model(xgboost.XGBClassifier(), xtrain_count.tocsc(), train_y, xvalid_count.tocsc())\n",
    "#print(\"Xgb, Count Vectors: \", accuracy)\n"
   ]
  },
  {
   "cell_type": "code",
   "execution_count": 118,
   "metadata": {},
   "outputs": [
    {
     "name": "stdout",
     "output_type": "stream",
     "text": [
      "0.685\n"
     ]
    }
   ],
   "source": [
    "# Extereme Gradient Boosting on Word Level TF IDF Vectors\n",
    "prediction = train_model(xgboost.XGBClassifier(), xtrain_tfidf.tocsc(), train_y, xvalid_tfidf.tocsc())\n",
    "#print(\"Xgb, WordLevel TF-IDF: \", accuracy)"
   ]
  },
  {
   "cell_type": "code",
   "execution_count": 19,
   "metadata": {},
   "outputs": [
    {
     "name": "stdout",
     "output_type": "stream",
     "text": [
      "0.6666666666666666\n"
     ]
    }
   ],
   "source": [
    "# Extereme Gradient Boosting on ngram Level TF IDF Vectors\n",
    "accuracy = train_model(xgboost.XGBClassifier(), xtrain_tfidf_ngram.tocsc(), train_y, xvalid_tfidf_ngram.tocsc())\n",
    "#print(\"Xgb, CharLevel Vectors: \", accuracy)"
   ]
  },
  {
   "cell_type": "code",
   "execution_count": 20,
   "metadata": {},
   "outputs": [],
   "source": [
    "from sklearn.metrics import confusion_matrix\n",
    "\n",
    "cnf_matrix = confusion_matrix(valid_y, predictions)"
   ]
  },
  {
   "cell_type": "code",
   "execution_count": 21,
   "metadata": {},
   "outputs": [],
   "source": [
    "class_names = list(set(data.cluster))"
   ]
  },
  {
   "cell_type": "code",
   "execution_count": 23,
   "metadata": {
    "scrolled": false
   },
   "outputs": [
    {
     "name": "stdout",
     "output_type": "stream",
     "text": [
      "Confusion matrix, without normalization\n"
     ]
    },
    {
     "data": {
      "text/plain": [
       "<matplotlib.figure.Figure at 0x15508dd6860>"
      ]
     },
     "metadata": {},
     "output_type": "display_data"
    },
    {
     "data": {
      "image/png": "[encoded data removed]",
      "text/plain": [
       "<matplotlib.figure.Figure at 0x155004237f0>"
      ]
     },
     "metadata": {
      "needs_background": "light"
     },
     "output_type": "display_data"
    }
   ],
   "source": [
    "import itertools\n",
    "import matplotlib.pyplot as plt\n",
    "\n",
    "\n",
    "def plot_confusion_matrix(cm, classes,\n",
    "                          normalize=False,\n",
    "                          title='Confusion matrix',\n",
    "                          cmap=plt.cm.Oranges):\n",
    "    \"\"\"\n",
    "    This function prints and plots the confusion matrix.\n",
    "    Normalization can be applied by setting `normalize=True`.\n",
    "    \"\"\"\n",
    "    if normalize:\n",
    "        cm = cm.astype('float') / cm.sum(axis=1)[:, np.newaxis]\n",
    "        print(\"Normalized confusion matrix\")\n",
    "    else:\n",
    "        print('Confusion matrix, without normalization')\n",
    "\n",
    "\n",
    "\n",
    "    plt.imshow(cm, interpolation='nearest', cmap=cmap)\n",
    "    plt.title(title)\n",
    "    plt.colorbar()\n",
    "    tick_marks = np.arange(len(classes))\n",
    "    plt.xticks(tick_marks, classes, rotation=45)\n",
    "    plt.yticks(tick_marks, classes)\n",
    "\n",
    "    fmt = '.2f' if normalize else 'd'\n",
    "    thresh = cm.max() / 2.\n",
    "    for i, j in itertools.product(range(cm.shape[0]), range(cm.shape[1])):\n",
    "        plt.text(j, i, format(cm[i, j], fmt),\n",
    "                 horizontalalignment=\"center\",\n",
    "                 color=\"white\" if cm[i, j] > thresh else \"black\")\n",
    "\n",
    "    plt.ylabel('True label')\n",
    "    plt.xlabel('Predicted label')\n",
    "    plt.tight_layout()\n",
    "\n",
    "\n",
    "# Compute confusion matrix\n",
    "cnf_matrix = confusion_matrix(valid_y, accuracy)\n",
    "np.set_printoptions(precision=2)\n",
    "\n",
    "# Plot non-normalized confusion matrix\n",
    "\n",
    "plt.figure()\n",
    "plt.figure(figsize = (10,10))\n",
    "plot_confusion_matrix(cnf_matrix, classes=class_names, title='Confusion matrix, without normalization')\n",
    "\n",
    "# # Plot normalized confusion matrix\n",
    "# plt.figure()\n",
    "# plot_confusion_matrix(cnf_matrix, classes=class_names, normalize=True,\n",
    "#                       title='Normalized confusion matrix')\n",
    "\n",
    "plt.show()"
   ]
  },
  {
   "cell_type": "code",
   "execution_count": 38,
   "metadata": {
    "scrolled": true
   },
   "outputs": [
    {
     "name": "stdout",
     "output_type": "stream",
     "text": [
      "http://www.coralorder.com\n",
      "True:  food \n",
      "Predicted:  digital \n",
      "http://www.zumba.com\n",
      "True:  travel\n",
      "Predicted:  marketplace1 \n",
      "http://breakoutgaming.com\n",
      "True:  gambling\n",
      "Predicted:  games\n",
      "http://www.beautifulagony.com\n",
      "True:  adult\n",
      "Predicted:  outfit\n",
      "http://www.prestop.nl\n",
      "True:  digital \n",
      "Predicted:  marketplace1 \n",
      "http://www.LockTrust.com\n",
      "True:  food \n",
      "Predicted:  digital \n",
      "http://www.iapp.org\n",
      "True:  organizations\n",
      "Predicted:  digital \n",
      "http://bioactiveplus.com\n",
      "True:  food \n",
      "Predicted:  marketplace2\n",
      "http://WWW.RAININTL.COM\n",
      "True:  marketplace2\n",
      "Predicted:  food \n",
      "http://www.ikwinkelgezond.be\n",
      "True:  food \n",
      "Predicted:  marketplace1 \n",
      "http://js-trend.com\n",
      "True:  organizations\n",
      "Predicted:  digital \n",
      "http://www.loserpool.com\n",
      "True:  gambling\n",
      "Predicted:  games\n",
      "http://www.24win.com\n",
      "True:  gambling\n",
      "Predicted:  outfit\n",
      "http://www.rebelcactus.com\n",
      "True:  outfit\n",
      "Predicted:  games\n",
      "http://www.alua.com\n",
      "True:  adult\n",
      "Predicted:  organizations\n",
      "http://www.join.gop\n",
      "True:  organizations\n",
      "Predicted:  digital \n",
      "http://www.hmv.com.hk\n",
      "True:  entertainment\n",
      "Predicted:  marketplace1 \n",
      "http://www.duivenweb.nl\n",
      "True:  food \n",
      "Predicted:  marketplace2\n",
      "http://www.mimimac.co.kr\n",
      "True:  marketplace1 \n",
      "Predicted:  outfit\n",
      "http://mysaverday.com\n",
      "True:  marketplace2\n",
      "Predicted:  food \n",
      "http://www.icilearning.net\n",
      "True:  organizations\n",
      "Predicted:  digital \n",
      "http://euroglot.nl\n",
      "True:  financial\n",
      "Predicted:  digital \n",
      "http://www.grootplezier.nl\n",
      "True:  food \n",
      "Predicted:  marketplace1 \n",
      "http://www.minorhotels.com\n",
      "True:  travel\n",
      "Predicted:  gambling\n",
      "http://www.caixinglobal.com\n",
      "True:  read\n",
      "Predicted:  digital \n",
      "http://www.sportsspread.com\n",
      "True:  gambling\n",
      "Predicted:  financial\n",
      "http://www.showtexonline.com\n",
      "True:  digital \n",
      "Predicted:  food \n",
      "http://www.gtbill.com\n",
      "True:  adult\n",
      "Predicted:  financial\n",
      "http://www.mimice.net\n",
      "True:  travel\n",
      "Predicted:  marketplace1 \n",
      "http://www.lycamobile.nl\n",
      "True:  digital \n",
      "Predicted:  marketplace1 \n",
      "http://www.infentorides.com\n",
      "True:  games\n",
      "Predicted:  auto\n",
      "http://www.golifeline.be\n",
      "True:  outfit\n",
      "Predicted:  marketplace1 \n",
      "http://www.vipauktion.de\n",
      "True:  organizations\n",
      "Predicted:  outfit\n",
      "http://www.cbdcaregarden.com\n",
      "True:  marketplace2\n",
      "Predicted:  digital \n",
      "http://www.weertsonline.nl\n",
      "True:  digital \n",
      "Predicted:  marketplace1 \n",
      "http://www.vi.com\n",
      "True:  marketplace2\n",
      "Predicted:  food \n",
      "http://www.newchic.com\n",
      "True:  outfit\n",
      "Predicted:  marketplace1 \n",
      "http://www.groupdeal.nl\n",
      "True:  digital \n",
      "Predicted:  outfit\n",
      "http://www.ticketpoint.nl\n",
      "True:  entertainment\n",
      "Predicted:  marketplace1 \n",
      "http://www.safeshopping123.com\n",
      "True:  digital \n",
      "Predicted:  food \n",
      "http://www.twinsetbypersempre.nl\n",
      "True:  food \n",
      "Predicted:  outfit\n",
      "http://www.stempel.nl\n",
      "True:  none\n",
      "Predicted:  marketplace1 \n",
      "http://fanleague.com\n",
      "True:  gambling\n",
      "Predicted:  games\n",
      "http://www.hunterlaarzen.nl\n",
      "True:  outfit\n",
      "Predicted:  marketplace1 \n",
      "http://www.knife-heaven-shop.com\n",
      "True:  marketplace1 \n",
      "Predicted:  food \n",
      "http://DRAFTKINGS.CO.UK\n",
      "True:  games\n",
      "Predicted:  adult\n",
      "http://atlanticcoastmedia.com\n",
      "True:  marketplace1 \n",
      "Predicted:  food \n",
      "http://www.snapfinancial.com\n",
      "True:  financial\n",
      "Predicted:  marketplace1 \n",
      "http://www.rcmoment.com\n",
      "True:  games\n",
      "Predicted:  marketplace1 \n",
      "http://www.directcellars.com\n",
      "True:  food \n",
      "Predicted:  adult\n",
      "http://www.vapeworld.com/\n",
      "True:  food \n",
      "Predicted:  marketplace2\n",
      "http://www.idproguard.co.uk\n",
      "True:  financial\n",
      "Predicted:  marketplace1 \n",
      "http://www.bookyourtheorytestonline.co.uk\n",
      "True:  organizations\n",
      "Predicted:  digital \n",
      "http://www.gametwist.com\n",
      "True:  games\n",
      "Predicted:  gambling\n",
      "http://shop.eservicesgroup.com\n",
      "True:  digital \n",
      "Predicted:  marketplace1 \n",
      "http://webshop.lifeandgarden.com\n",
      "True:  marketplace2\n",
      "Predicted:  marketplace1 \n",
      "http://www.promeritum.com\n",
      "True:  financial\n",
      "Predicted:  marketplace1 \n"
     ]
    }
   ],
   "source": [
    "i = 0\n",
    "for idx in valid_x_idx:\n",
    "    if data.cluster[idx] != accuracy[i]:\n",
    "        print(data.website[idx])\n",
    "        print(\"True: \", data.cluster[idx])\n",
    "        print(\"Predicted: \", accuracy[i])\n",
    "    i = i+1"
   ]
  },
  {
   "cell_type": "code",
   "execution_count": 86,
   "metadata": {},
   "outputs": [],
   "source": [
    "sample = data[data.cluster == \"gambling\"]"
   ]
  },
  {
   "cell_type": "code",
   "execution_count": 87,
   "metadata": {},
   "outputs": [
    {
     "data": {
      "text/plain": [
       "78"
      ]
     },
     "execution_count": 87,
     "metadata": {},
     "output_type": "execute_result"
    }
   ],
   "source": [
    "len(sample)"
   ]
  },
  {
   "cell_type": "code",
   "execution_count": 96,
   "metadata": {},
   "outputs": [],
   "source": [
    "web = data[data.website == \"http://www.rebelcactus.com\"]"
   ]
  },
  {
   "cell_type": "code",
   "execution_count": 97,
   "metadata": {
    "scrolled": false
   },
   "outputs": [
    {
     "data": {
      "text/plain": [
       "'home shop news contact nederlands english deutsch creative bell watch explore world without parent explore world rebel cactus call play music game sleeves accessories order rebel cactus choose different sleeves call watch nobody thing think suit best choose combine change rebel cactus call watch swipe black view download rebel cactus game download directly view angry bird tic tac toe candy crush view order go shop en work days order next day house free delivery postnl belgium work days order next day deliver belgium secure online payment ideal mastercard mr cash paypal visa card question call us anyway way rebel cactus bell watch tree climbers telaatkomers dog walkers sidewalk football players pee tamper da gdromers make rebel cactus really fit rebel cactus always music make awesome picture movies rebel cactus also always call parent phone would go away okay find world course see rebel cactus time also text shoot video make music play music course call rebel cactus go world without parent live freedom go school go play friends go adventure discover world parent need call direct call ring watch listen radio favorite music make coolest photos videos via text message always contact friends style coolest sleeves turn automatically school speed dial parent line days standby superbattery game fastest smartest light nice smooth wrist kidsproof dustproof shockproof time stopwatch calculator agenda alarm go shop Your parents rebel cactus cool ring watch put together use tree climber telaatkomer sidewalk footballer daydreamer self confident proud discover world rebel cactus also advance technology field telecommunication Because always contact via telephone sms shop online webshops retail partner rebel cactus also sale follow us instagram facebook linkedin first action events sign newsletter instagram facebook linkedin name e mail address home shop news contact us retailers question answer pay safe ideal mastercard paypal mr cash visa deliver postnl rebel cactus trade name hallofo bv c hallofo privacy policy disclaimer condition\\r\\n'"
      ]
     },
     "execution_count": 97,
     "metadata": {},
     "output_type": "execute_result"
    }
   ],
   "source": [
    "web.content[int(web.index1)]"
   ]
  },
  {
   "cell_type": "code",
   "execution_count": null,
   "metadata": {},
   "outputs": [],
   "source": []
  },
  {
   "cell_type": "code",
   "execution_count": null,
   "metadata": {},
   "outputs": [],
   "source": []
  }
 ],
 "metadata": {
  "kernelspec": {
   "display_name": "Python 3",
   "language": "python",
   "name": "python3"
  },
  "language_info": {
   "codemirror_mode": {
    "name": "ipython",
    "version": 3
   },
   "file_extension": ".py",
   "mimetype": "text/x-python",
   "name": "python",
   "nbconvert_exporter": "python",
   "pygments_lexer": "ipython3",
   "version": "3.6.7"
  }
 },
 "nbformat": 4,
 "nbformat_minor": 2
}
